{
 "cells": [
  {
   "cell_type": "code",
   "execution_count": null,
   "id": "c2d4dd91-bb4f-45ef-93ab-f3d630f7d63b",
   "metadata": {},
   "outputs": [],
   "source": [
    "## This works on a paperspace gradient kernel but if for some reason this is run locally it needs the full path to the file not just data.zip\n",
    "import zipfile\n",
    "with zipfile.ZipFile(\"data.zip\", 'r') as zip_ref:\n",
    "    zip_ref.extractall()"
   ]
  }
 ],
 "metadata": {
  "kernelspec": {
   "display_name": "Python 3",
   "language": "python",
   "name": "python3"
  },
  "language_info": {
   "codemirror_mode": {
    "name": "ipython",
    "version": 3
   },
   "file_extension": ".py",
   "mimetype": "text/x-python",
   "name": "python",
   "nbconvert_exporter": "python",
   "pygments_lexer": "ipython3",
   "version": "3.8.8"
  }
 },
 "nbformat": 4,
 "nbformat_minor": 5
}
