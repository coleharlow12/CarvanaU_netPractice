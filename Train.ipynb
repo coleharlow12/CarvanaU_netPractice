{
 "cells": [
  {
   "cell_type": "code",
   "execution_count": null,
   "id": "4f9a8f08-9b8a-4f1c-9577-6f46d798d097",
   "metadata": {},
   "outputs": [],
   "source": [
    "#Intstall all the requirements\n",
    "!pip install -r \"requirements.txt\""
   ]
  },
  {
   "cell_type": "code",
   "execution_count": null,
   "id": "545c3b4d-97ba-4a3b-8a7b-7ffccec6a938",
   "metadata": {},
   "outputs": [],
   "source": [
    "#For some reason albumentations wasn't installing with the requirements.txt so I have to do it separate\n",
    "! pip install albumentations"
   ]
  },
  {
   "cell_type": "code",
   "execution_count": null,
   "id": "d110d69d-a2a8-4508-ad3a-c7fb6d018c4d",
   "metadata": {},
   "outputs": [],
   "source": [
    "#Trains the algorithm \n",
    "! python train.py"
   ]
  }
 ],
 "metadata": {
  "kernelspec": {
   "display_name": "Python 3",
   "language": "python",
   "name": "python3"
  },
  "language_info": {
   "codemirror_mode": {
    "name": "ipython",
    "version": 3
   },
   "file_extension": ".py",
   "mimetype": "text/x-python",
   "name": "python",
   "nbconvert_exporter": "python",
   "pygments_lexer": "ipython3",
   "version": "3.8.8"
  }
 },
 "nbformat": 4,
 "nbformat_minor": 5
}
